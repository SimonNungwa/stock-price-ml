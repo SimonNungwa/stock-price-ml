{
 "cells": [
  {
   "cell_type": "code",
   "execution_count": null,
   "id": "0ee027e3",
   "metadata": {
    "vscode": {
     "languageId": "plaintext"
    }
   },
   "outputs": [],
   "source": [
    "pip install pandas numpy yfinance matplotlib scikit-learn"
   ]
  }
 ],
 "metadata": {
  "language_info": {
   "name": "python"
  }
 },
 "nbformat": 4,
 "nbformat_minor": 5
}
